{
 "cells": [
  {
   "cell_type": "code",
   "execution_count": 1,
   "metadata": {},
   "outputs": [],
   "source": [
    "# import numpy as np\n",
    "# import random\n",
    "\n",
    "# # Define TSP data (coordinates of cities)\n",
    "# cities = np.array([\n",
    "#     [0, 0],\n",
    "#     [1, 3],\n",
    "#     [2, 2],\n",
    "#     [3, 1],\n",
    "#     [5, 2],\n",
    "#     [6, 0]\n",
    "# ])\n",
    "# # cities = load_dataset('dataset/large.csv')\n",
    "\n",
    "# # Function to calculate the distance between two cities\n",
    "# def distance(city1, city2):\n",
    "#     return np.linalg.norm(city1 - city2)\n",
    "\n",
    "# # Function to calculate total distance of a tour\n",
    "# def tour_distance(tour):\n",
    "#     total_distance = 0\n",
    "#     for i in range(len(tour) - 1):\n",
    "#         total_distance += distance(cities[tour[i]], cities[tour[i + 1]])\n",
    "#     total_distance += distance(cities[tour[-1]], cities[tour[0]])  # Return to starting city\n",
    "#     return total_distance\n",
    "\n",
    "# # Initialize particles\n",
    "# num_particles = 20\n",
    "# num_iterations = 400\n",
    "# particles = [random.sample(range(len(cities)), len(cities)) for _ in range(num_particles)]\n",
    "# velocities = [random.sample(range(len(cities)), len(cities)) for _ in range(num_particles)]\n",
    "# pBest = particles.copy()\n",
    "# gBest = min(particles, key=tour_distance)\n",
    "\n",
    "# # PSO parameters\n",
    "# w = 0.5  # inertia weight\n",
    "# c1 = 2.0  # cognitive weight\n",
    "# c2 = 2.0  # social weight\n",
    "\n",
    "# # PSO loop\n",
    "# for iteration in range(num_iterations):\n",
    "#     for i in range(num_particles):\n",
    "#         # Update velocity\n",
    "#         velocities[i] = w * np.array(velocities[i]) + \\\n",
    "#                         c1 * random.random() * (np.array(pBest[i]) - np.array(particles[i])) + \\\n",
    "#                         c2 * random.random() * (np.array(gBest) - np.array(particles[i]))\n",
    "#         # Update position\n",
    "#         particles[i] = sorted(range(len(velocities[i])), key=lambda k: velocities[i][k])\n",
    "        \n",
    "#         # Update personal best\n",
    "#         if tour_distance(particles[i]) < tour_distance(pBest[i]):\n",
    "#             pBest[i] = particles[i].copy()\n",
    "            \n",
    "#         # Update global best\n",
    "#         if tour_distance(particles[i]) < tour_distance(gBest):\n",
    "#             gBest = particles[i].copy()\n",
    "\n",
    "# print(\"Best tour found:\", gBest)\n",
    "# print(\"Total distance:\", tour_distance(gBest))\n"
   ]
  },
  {
   "cell_type": "code",
   "execution_count": 2,
   "metadata": {},
   "outputs": [],
   "source": [
    "import numpy as np\n",
    "import matplotlib.pyplot as plt\n",
    "from scipy.spatial.distance import euclidean\n",
    "import math\n",
    "import random"
   ]
  },
  {
   "cell_type": "code",
   "execution_count": 3,
   "metadata": {},
   "outputs": [],
   "source": [
    "def read_cities(filepath):\n",
    "    \n",
    "    cities = np.loadtxt(filepath, delimiter=',')\n",
    "    return cities"
   ]
  },
  {
   "cell_type": "code",
   "execution_count": 4,
   "metadata": {},
   "outputs": [],
   "source": [
    "def score_solution(cities, solution):\n",
    "    '''\n",
    "    Calculate the total distance traveled by the given solution.\n",
    "    This function scores a TSP solution by computing the total\n",
    "    distance the salesperson would travel. Lower is better!\n",
    "    The 'solution' array must contain indices into the 'cities'\n",
    "    array. Also, the 'solution' array must visit each city exactly\n",
    "    once!\n",
    "    '''\n",
    "\n",
    "    if len(solution) != len(cities):\n",
    "        raise Exception(('Invalid solution: len(solution) is {}, ' + \\\n",
    "                'but it should be {}.').format(len(solution), len(cities)))\n",
    "\n",
    "    if set(solution) != set(range(len(cities))):\n",
    "        raise Exception('Invalid solution: The solution does not ' + \\\n",
    "                'visit each city exactly once!')\n",
    "\n",
    "    dist = 0.0\n",
    "    for i in range(len(solution)):\n",
    "        p_prev = cities[solution[i-1]]\n",
    "        p_here = cities[solution[i]]\n",
    "        dist += euclidean(p_prev, p_here)\n",
    "    return dist"
   ]
  },
  {
   "cell_type": "code",
   "execution_count": 5,
   "metadata": {},
   "outputs": [],
   "source": [
    "def create_figure():\n",
    "    '''\n",
    "    Creates a figure which `visualize_solution()` will draw onto.\n",
    "    '''\n",
    "    fig, axes = plt.subplots(1, 2, figsize=(15, 7))\n",
    "    return fig, axes"
   ]
  },
  {
   "cell_type": "code",
   "execution_count": 6,
   "metadata": {},
   "outputs": [],
   "source": [
    "def visualize_solution(cities, solution, fig=None, axes=None, block=True):\n",
    "    '''\n",
    "    Visualize the solution in a 2D plot.\n",
    "    The 'cities' and 'solution' arguments are the same\n",
    "    as to the `score_solution()` function.\n",
    "    '''\n",
    "    dist = score_solution(cities, solution) if len(solution) == len(cities) else float('NaN')\n",
    "\n",
    "    if fig is None or axes is None:\n",
    "        fig, axes = create_figure()\n",
    "    ax1, ax2 = axes\n",
    "    fig.suptitle('Total Distance: {}'.format(dist), fontsize=20)\n",
    "\n",
    "    ax1.clear()\n",
    "    ax1.scatter(cities[:,0], cities[:,1])\n",
    "\n",
    "    if len(solution) == len(cities):\n",
    "        path = np.hstack((solution, solution[0]))  # <-- the salesperson has to return home!\n",
    "    else:\n",
    "        path = solution\n",
    "    ax2.clear()\n",
    "    ax2.plot(cities[path,0], cities[path,1])\n",
    "    ax2.scatter(cities[:,0], cities[:,1])\n",
    "\n",
    "    if block:\n",
    "        while plt.fignum_exists(fig.number):\n",
    "            plt.pause(0.001)\n",
    "    else:\n",
    "        plt.pause(0.001)"
   ]
  },
  {
   "cell_type": "code",
   "execution_count": 7,
   "metadata": {},
   "outputs": [],
   "source": [
    "def random_solution(cities):\n",
    "    \"\"\"\n",
    "    Generate a random solution for the TSP problem.\n",
    "    \"\"\"\n",
    "    return random.sample(range(len(cities)), len(cities))"
   ]
  },
  {
   "cell_type": "code",
   "execution_count": 8,
   "metadata": {},
   "outputs": [
    {
     "name": "stdout",
     "output_type": "stream",
     "text": [
      "Final solution: [5, 953, 805, 836, 196, 713, 216, 103, 801, 460, 660, 835, 827, 306, 914, 132, 884, 28, 45, 373, 826, 506, 892, 318, 631, 372, 434, 589, 477, 887, 142, 862, 297, 30, 157, 635, 990, 771, 233, 922, 11, 577, 362, 528, 416, 677, 475, 984, 66, 537, 329, 489, 202, 650, 143, 188, 955, 259, 194, 309, 592, 147, 853, 556, 397, 282, 854, 474, 366, 987, 545, 320, 361, 350, 14, 476, 176, 278, 828, 761, 938, 76, 503, 178, 581, 667, 856, 394, 462, 175, 640, 122, 626, 59, 565, 128, 904, 714, 242, 865, 880, 32, 441, 261, 492, 703, 208, 95, 389, 920, 986, 67, 751, 304, 729, 249, 969, 590, 63, 369, 870, 711, 550, 661, 349, 286, 936, 816, 243, 236, 134, 579, 671, 799, 662, 603, 183, 384, 931, 921, 915, 482, 60, 722, 940, 17, 549, 810, 463, 681, 31, 852, 948, 473, 710, 523, 400, 796, 507, 834, 968, 73, 800, 407, 80, 408, 198, 783, 255, 331, 488, 620, 343, 803, 554, 131, 405, 942, 78, 472, 981, 930, 964, 260, 238, 849, 542, 732, 752, 289, 113, 493, 691, 431, 133, 468, 908, 57, 767, 404, 168, 889, 437, 602, 605, 224, 222, 74, 647, 141, 83, 521, 22, 840, 686, 2, 945, 593, 802, 727, 244, 445, 917, 496, 690, 956, 573, 644, 513, 99, 292, 982, 548, 288, 614, 539, 115, 806, 490, 728, 873, 916, 481, 303, 480, 12, 56, 181, 653, 639, 321, 283, 447, 774, 670, 676, 327, 792, 572, 124, 439, 285, 319, 773, 863, 105, 859, 414, 323, 218, 785, 191, 525, 334, 377, 139, 438, 77, 193, 314, 344, 557, 19, 34, 296, 910, 479, 824, 126, 269, 845, 533, 252, 807, 719, 391, 387, 35, 9, 688, 257, 90, 822, 478, 643, 819, 886, 299, 875, 825, 520, 696, 652, 540, 348, 855, 43, 234, 311, 228, 937, 641, 53, 55, 609, 308, 788, 705, 333, 941, 804, 546, 888, 268, 965, 561, 923, 582, 755, 879, 864, 821, 534, 514, 75, 117, 912, 161, 152, 851, 975, 179, 778, 210, 459, 50, 109, 604, 465, 858, 512, 89, 91, 842, 339, 112, 809, 578, 782, 598, 205, 645, 392, 64, 896, 531, 137, 759, 976, 84, 627, 262, 312, 580, 983, 505, 666, 961, 739, 26, 423, 563, 29, 351, 239, 868, 107, 901, 158, 584, 674, 882, 616, 461, 925, 903, 932, 497, 332, 697, 444, 628, 13, 769, 891, 24, 831, 54, 958, 811, 381, 386, 44, 163, 760, 367, 360, 317, 403, 0, 69, 390, 120, 756, 747, 342, 203, 929, 745, 145, 125, 538, 536, 424, 764, 23, 893, 380, 213, 365, 464, 960, 654, 68, 231, 907, 988, 180, 673, 162, 471, 70, 127, 16, 698, 359, 494, 81, 401, 250, 905, 279, 170, 971, 765, 240, 678, 748, 432, 685, 833, 599, 812, 214, 265, 346, 680, 293, 146, 789, 954, 848, 693, 62, 49, 633, 370, 187, 357, 995, 421, 235, 385, 65, 153, 957, 701, 567, 861, 952, 817, 600, 734, 38, 310, 192, 522, 530, 295, 617, 354, 129, 411, 571, 974, 682, 430, 254, 913, 427, 326, 37, 720, 173, 885, 455, 36, 393, 8, 872, 924, 184, 730, 33, 79, 742, 39, 694, 154, 568, 206, 630, 890, 683, 217, 256, 555, 610, 737, 501, 212, 724, 156, 378, 999, 651, 829, 587, 967, 818, 625, 839, 335, 708, 263, 396, 770, 841, 363, 167, 786, 668, 94, 291, 237, 71, 18, 860, 820, 197, 758, 679, 140, 413, 735, 93, 138, 345, 353, 185, 541, 467, 226, 453, 621, 435, 119, 895, 355, 409, 110, 629, 442, 846, 637, 220, 72, 86, 47, 646, 996, 305, 648, 209, 607, 271, 298, 135, 164, 96, 172, 371, 452, 448, 595, 102, 757, 195, 284, 997, 273, 526, 417, 325, 611, 634, 287, 966, 763, 624, 422, 558, 881, 675, 276, 790, 258, 40, 374, 42, 704, 934, 992, 658, 509, 543, 866, 532, 726, 41, 738, 772, 899, 898, 985, 655, 517, 746, 388, 272, 155, 433, 230, 622, 123, 470, 566, 251, 547, 823, 456, 928, 274, 946, 933, 412, 723, 322, 847, 656, 515, 695, 717, 215, 166, 529, 449, 612, 970, 379, 649, 551, 843, 428, 136, 364, 300, 897, 663, 7, 576, 352, 426, 768, 944, 182, 201, 189, 376, 794, 324, 294, 813, 798, 225, 906, 313, 669, 469, 689, 569, 106, 552, 606, 725, 560, 148, 638, 48, 636, 337, 795, 454, 919, 972, 791, 498, 375, 302, 511, 171, 749, 27, 241, 601, 900, 743, 4, 151, 114, 358, 281, 787, 619, 775, 418, 429, 519, 101, 973, 6, 443, 85, 993, 715, 911, 844, 280, 227, 883, 347, 248, 918, 466, 419, 502, 270, 159, 712, 615, 596, 518, 876, 104, 144, 486, 608, 15, 87, 588, 116, 51, 815, 978, 535, 108, 989, 21, 779, 850, 754, 487, 998, 776, 458, 275, 92, 58, 500, 88, 762, 336, 165, 902, 947, 741, 204, 330, 871, 232, 699, 869, 253, 199, 315, 665, 484, 744, 368, 784, 657, 398, 149, 485, 777, 20, 328, 980, 692, 687, 659, 483, 832, 190, 169, 219, 245, 574, 61, 707, 753, 516, 174, 267, 246, 750, 524, 499, 718, 632, 457, 118, 837, 130, 830, 623, 814, 277, 290, 559, 736, 935, 731, 221, 874, 951, 207, 721, 570, 383, 950, 121, 867, 926, 586, 894, 585, 420, 963, 440, 399, 962, 877, 307, 97, 740, 583, 100, 150, 340, 702, 766, 338, 200, 98, 979, 562, 642, 177, 564, 591, 706, 909, 446, 716, 672, 857, 301, 402, 247, 223, 10, 709, 808, 733, 781, 994, 527, 939, 684, 510, 382, 508, 82, 52, 229, 943, 797, 436, 316, 46, 700, 780, 664, 504, 597, 410, 395, 425, 341, 927, 415, 211, 495, 186, 3, 160, 959, 544, 266, 991, 878, 1, 793, 451, 949, 838, 450, 594, 553, 356, 25, 618, 111, 491, 406, 613, 977, 264, 575]\n",
      "Total distance traveled: 494.1062829290662\n"
     ]
    }
   ],
   "source": [
    "def pso_tsp_solver(cities, start_index=0, swarm_size=20, max_iter=100, w=0.5, c1=1.5, c2=1.5):\n",
    "    \"\"\"\n",
    "    Solve the TSP problem using Particle Swarm Optimization.\n",
    "    \"\"\"\n",
    "    num_cities = len(cities)\n",
    "    best_global_solution = None\n",
    "    best_global_score = float('inf')\n",
    "\n",
    "    # Initialize particles\n",
    "    particles = []\n",
    "    for _ in range(swarm_size):\n",
    "        particle = random_solution(cities)\n",
    "        # Ensure the start index is the specified city\n",
    "        start_index_pos = particle.index(start_index)\n",
    "        particle[0], particle[start_index_pos] = particle[start_index_pos], particle[0]\n",
    "        particles.append({'position': particle, 'velocity': random_solution(cities)})\n",
    "\n",
    "    for _ in range(max_iter):\n",
    "        for particle in particles:\n",
    "            score = score_solution(cities, particle['position'])\n",
    "            if score < best_global_score:\n",
    "                best_global_score = score\n",
    "                best_global_solution = particle['position']\n",
    "\n",
    "        for particle in particles:\n",
    "            # Update velocity\n",
    "            for i in range(num_cities):\n",
    "                r1 = random.random()\n",
    "                r2 = random.random()\n",
    "                particle['velocity'][i] = (w * particle['velocity'][i] +\n",
    "                                           c1 * r1 * (best_global_solution[i] - particle['position'][i]) +\n",
    "                                           c2 * r2 * (random.choice(best_global_solution) - particle['position'][i]))\n",
    "\n",
    "            # Update position\n",
    "            particle['position'] = sorted(range(num_cities), key=lambda x: particle['position'][x] + particle['velocity'][x])\n",
    "\n",
    "            # Ensure the start index is the specified city\n",
    "            start_index_pos = particle['position'].index(start_index)\n",
    "            particle['position'][0], particle['position'][start_index_pos] = particle['position'][start_index_pos], particle['position'][0]\n",
    "\n",
    "    return best_global_solution\n",
    "\n",
    "cities = read_cities('dataset/large.csv')\n",
    "\n",
    "# Solve the TSP using PSO\n",
    "solution = pso_tsp_solver(cities, start_index=5)\n",
    "\n",
    "# Calculate the total distance of the solution\n",
    "total_distance = score_solution(cities, solution)\n",
    "\n",
    "print(\"Final solution:\", solution)\n",
    "print(\"Total distance traveled:\", total_distance)\n"
   ]
  },
  {
   "cell_type": "code",
   "execution_count": 9,
   "metadata": {},
   "outputs": [
    {
     "data": {
      "text/plain": [
       "486.2077578969698"
      ]
     },
     "execution_count": 9,
     "metadata": {},
     "output_type": "execute_result"
    }
   ],
   "source": [
    "486.2077578969698"
   ]
  }
 ],
 "metadata": {
  "kernelspec": {
   "display_name": "tf_env",
   "language": "python",
   "name": "python3"
  },
  "language_info": {
   "codemirror_mode": {
    "name": "ipython",
    "version": 3
   },
   "file_extension": ".py",
   "mimetype": "text/x-python",
   "name": "python",
   "nbconvert_exporter": "python",
   "pygments_lexer": "ipython3",
   "version": "3.8.15"
  }
 },
 "nbformat": 4,
 "nbformat_minor": 2
}
