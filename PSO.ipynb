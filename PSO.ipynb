{
 "cells": [
  {
   "cell_type": "code",
   "execution_count": 1,
   "metadata": {},
   "outputs": [],
   "source": [
    "import numpy as np\n",
    "import random\n",
    "import math"
   ]
  },
  {
   "cell_type": "code",
   "execution_count": 2,
   "metadata": {},
   "outputs": [],
   "source": [
    "\n",
    "filename = \"dataset/large.csv\"\n",
    "\n",
    "# Load TSP dataset\n",
    "def load_data(filename):\n",
    "    with open(filename, 'r') as f:\n",
    "        lines = f.readlines()\n",
    "        cities = []\n",
    "        for line in lines:\n",
    "            city_id, x, y = map(float, line.split())\n",
    "            cities.append((x, y))\n",
    "        return cities"
   ]
  },
  {
   "cell_type": "code",
   "execution_count": 4,
   "metadata": {},
   "outputs": [],
   "source": [
    "# Calculate distance between two cities\n",
    "def distance(city1, city2):\n",
    "    return np.linalg.norm(np.array(city1) - np.array(city2))\n"
   ]
  },
  {
   "cell_type": "code",
   "execution_count": 5,
   "metadata": {},
   "outputs": [],
   "source": [
    "def total_distance(path, cities):\n",
    "    dist = 0\n",
    "    for i in range(len(path) - 1):\n",
    "        dist += distance(cities[path[i]], cities[path[i + 1]])\n",
    "    return dist"
   ]
  },
  {
   "cell_type": "code",
   "execution_count": 6,
   "metadata": {},
   "outputs": [],
   "source": [
    "def pso_tsp(cities, num_particles, max_iter):\n",
    "    num_cities = len(cities)\n",
    "    # Initialize particles and velocities\n",
    "    particles = np.random.permutation(num_cities)  # Initial permutation of cities\n",
    "    velocities = np.zeros((num_particles, num_cities), dtype=int)\n",
    "    # Initialize global best solution\n",
    "    global_best = particles[np.argmin([total_distance(particles, cities) for _ in range(num_particles)])]\n",
    "    for _ in range(max_iter):\n",
    "        for i in range(num_particles):\n",
    "            # Update velocity\n",
    "            velocities[i] = np.random.permutation(num_cities)\n",
    "            # Update position\n",
    "            particles[i] = np.roll(particles[i], velocities[i][0])\n",
    "            # Evaluate fitness\n",
    "            if total_distance(particles[i], cities) < total_distance(particles[global_best], cities):\n",
    "                global_best = i\n",
    "    return particles[global_best]"
   ]
  },
  {
   "cell_type": "code",
   "execution_count": 7,
   "metadata": {},
   "outputs": [
    {
     "ename": "ValueError",
     "evalue": "could not convert string to float: '7.751835449506971898e-02,1.701756081581240476e-02'",
     "output_type": "error",
     "traceback": [
      "\u001b[1;31m---------------------------------------------------------------------------\u001b[0m",
      "\u001b[1;31mValueError\u001b[0m                                Traceback (most recent call last)",
      "Cell \u001b[1;32mIn[7], line 1\u001b[0m\n\u001b[1;32m----> 1\u001b[0m cities \u001b[38;5;241m=\u001b[39m \u001b[43mload_data\u001b[49m\u001b[43m(\u001b[49m\u001b[38;5;124;43m'\u001b[39;49m\u001b[38;5;124;43mdataset/large.csv\u001b[39;49m\u001b[38;5;124;43m'\u001b[39;49m\u001b[43m)\u001b[49m\n\u001b[0;32m      2\u001b[0m \u001b[38;5;66;03m# PSO parameters\u001b[39;00m\n\u001b[0;32m      3\u001b[0m num_particles \u001b[38;5;241m=\u001b[39m \u001b[38;5;241m20\u001b[39m\n",
      "Cell \u001b[1;32mIn[2], line 9\u001b[0m, in \u001b[0;36mload_data\u001b[1;34m(filename)\u001b[0m\n\u001b[0;32m      7\u001b[0m cities \u001b[38;5;241m=\u001b[39m []\n\u001b[0;32m      8\u001b[0m \u001b[38;5;28;01mfor\u001b[39;00m line \u001b[38;5;129;01min\u001b[39;00m lines:\n\u001b[1;32m----> 9\u001b[0m     city_id, x, y \u001b[38;5;241m=\u001b[39m \u001b[38;5;28mmap\u001b[39m(\u001b[38;5;28mfloat\u001b[39m, line\u001b[38;5;241m.\u001b[39msplit())\n\u001b[0;32m     10\u001b[0m     cities\u001b[38;5;241m.\u001b[39mappend((x, y))\n\u001b[0;32m     11\u001b[0m \u001b[38;5;28;01mreturn\u001b[39;00m cities\n",
      "\u001b[1;31mValueError\u001b[0m: could not convert string to float: '7.751835449506971898e-02,1.701756081581240476e-02'"
     ]
    }
   ],
   "source": [
    "# cities = load_data('dataset/large.csv')\n",
    "# # PSO parameters\n",
    "# num_particles = 20\n",
    "# max_iter = 100\n",
    "# # Run PSO algorithm\n",
    "# best_path_pso = pso_tsp(cities, num_particles, max_iter)\n",
    "# print(\"Best path found by PSO:\", best_path_pso)\n",
    "# print(\"Total distance:\", total_distance(best_path_pso, cities))\n"
   ]
  },
  {
   "cell_type": "code",
   "execution_count": null,
   "metadata": {},
   "outputs": [],
   "source": []
  }
 ],
 "metadata": {
  "kernelspec": {
   "display_name": "tf_env",
   "language": "python",
   "name": "python3"
  },
  "language_info": {
   "codemirror_mode": {
    "name": "ipython",
    "version": 3
   },
   "file_extension": ".py",
   "mimetype": "text/x-python",
   "name": "python",
   "nbconvert_exporter": "python",
   "pygments_lexer": "ipython3",
   "version": "3.8.15"
  }
 },
 "nbformat": 4,
 "nbformat_minor": 2
}
